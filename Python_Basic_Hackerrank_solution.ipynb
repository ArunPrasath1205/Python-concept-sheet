{
  "nbformat": 4,
  "nbformat_minor": 0,
  "metadata": {
    "colab": {
      "name": "Python Basic Hackerrank solution",
      "provenance": [],
      "authorship_tag": "ABX9TyMtwUDoqxP4HWHNSWbpCfXV",
      "include_colab_link": true
    },
    "kernelspec": {
      "name": "python3",
      "display_name": "Python 3"
    },
    "language_info": {
      "name": "python"
    }
  },
  "cells": [
    {
      "cell_type": "markdown",
      "metadata": {
        "id": "view-in-github",
        "colab_type": "text"
      },
      "source": [
        "<a href=\"https://colab.research.google.com/github/ArunPrasath1205/Python-concept-sheet/blob/main/Python_Basic_Hackerrank_solution.ipynb\" target=\"_parent\"><img src=\"https://colab.research.google.com/assets/colab-badge.svg\" alt=\"Open In Colab\"/></a>"
      ]
    },
    {
      "cell_type": "markdown",
      "source": [
        "Problem 01:\n",
        "\n",
        "### Complete the 'reverse_words_order_and_swap_cases' function below.\n",
        "### The function is expected to return a STRING.\n",
        "### The function accepts STRING sentence as parameter."
      ],
      "metadata": {
        "id": "8MskT4zzqHRd"
      }
    },
    {
      "cell_type": "code",
      "execution_count": 2,
      "metadata": {
        "id": "eF95kPrsp7IO"
      },
      "outputs": [],
      "source": [
        "def reverse_words_order_and_swap_cases(sentence):\n",
        "    word_list = sentence.split()\n",
        "    reversed_list = word_list[:: -1]\n",
        "    reversed_sentence = \" \".join(reversed_list)\n",
        "    return reversed_sentence.swapcase()\n",
        "\n",
        "\n"
      ]
    },
    {
      "cell_type": "code",
      "source": [
        "sentence = \"The sample Input\""
      ],
      "metadata": {
        "id": "pPmx7NY3qwbr"
      },
      "execution_count": 3,
      "outputs": []
    },
    {
      "cell_type": "code",
      "source": [
        "reverse_words_order_and_swap_cases(sentence)"
      ],
      "metadata": {
        "colab": {
          "base_uri": "https://localhost:8080/",
          "height": 35
        },
        "id": "uBqg66uRqotX",
        "outputId": "0658bee5-6369-43b5-e64a-33a44778dd4f"
      },
      "execution_count": 4,
      "outputs": [
        {
          "output_type": "execute_result",
          "data": {
            "text/plain": [
              "'iNPUT SAMPLE tHE'"
            ],
            "application/vnd.google.colaboratory.intrinsic+json": {
              "type": "string"
            }
          },
          "metadata": {},
          "execution_count": 4
        }
      ]
    },
    {
      "cell_type": "markdown",
      "source": [
        "Problem 02:\n",
        "\n",
        " # string transformation\n",
        "\n",
        "  Problem:-\n",
        "\n",
        " There is a sentence that consists of space-separated strings of upper and lower case English letters. Transform each string according to the given algorithm and return the new sentence.\n",
        "Each string should be modified as follows:\n",
        "• The first character of the string remains unchanged\n",
        "• For each subsequent character, say x, consider a letter\n",
        "preceding it, say y:\n",
        "• If y precedes x in the English alphabet, transform x to uppercase\n",
        "o If x precedes y in the English alphabet, transform x to lowercase\n",
        "If x and y are equal, the letter remains unchanged\n",
        "\n",
        "Example\n",
        "\n",
        "sentence = \"cOOL dog\"\n",
        "The first letters of both words remain unchanged. Then, for the word \"COOL\" the first \"o\" is made uppercase because the letter preceding it, \"c\", comes earlier in the alphabet. Next, the case of the second \"O\" is unchanged because the letter preceding is also \"o\", and finally the \"L\" is made lowercase because the letter preceding it, \"O\", comes later in the alphabet. The second word, \"dOg\", is transformed according to the same rules. Return the resulting sentence 'cool dog'.\n",
        "\n",
        "Function Description\n",
        "\n",
        "Complete the function transformSentence in the editor below. The function must return a string representing the resulting sentence.\n",
        "\n",
        "transformSentence has the following parameter(s): string sentence: the input sentence"
      ],
      "metadata": {
        "id": "CyfvUTkiq7yn"
      }
    },
    {
      "cell_type": "code",
      "source": [
        "def transformSentence(sentence):\n",
        "    splited_sentence =sentence.split()\n",
        "    \n",
        "    new_list =[]\n",
        "    string=\"\"\n",
        "    for i in splited_sentence: #The\n",
        "        string = string + i[0]   #T\n",
        "        for j in range(0,len(i)-1):  #0,2\n",
        "            if(i[j].lower()<i[j+1].lower()): # t< h\n",
        "                string+=(i[j+1].upper()) \n",
        "            elif(i[j].lower()>i[j+1].lower()): # t > h\n",
        "                string+=(i[j+1].lower())  #Th\n",
        "            else:\n",
        "                string+=i[j+1] #Th\n",
        "        new_list.append(string)\n",
        "        string=\"\"\n",
        "    result=\"\"\n",
        "    \n",
        "    for i in new_list:\n",
        "        result=result+\" \"+i\n",
        "    return (result.strip())"
      ],
      "metadata": {
        "id": "7YW9kSQYrD5c"
      },
      "execution_count": 7,
      "outputs": []
    },
    {
      "cell_type": "code",
      "source": [
        "transformSentence(sentence)"
      ],
      "metadata": {
        "colab": {
          "base_uri": "https://localhost:8080/",
          "height": 35
        },
        "id": "ANICBH0SrJcr",
        "outputId": "9171ddf4-cf26-4961-dcdf-008fb76f4348"
      },
      "execution_count": 8,
      "outputs": [
        {
          "output_type": "execute_result",
          "data": {
            "text/plain": [
              "'The saMPle INPUt'"
            ],
            "application/vnd.google.colaboratory.intrinsic+json": {
              "type": "string"
            }
          },
          "metadata": {},
          "execution_count": 8
        }
      ]
    }
  ]
}